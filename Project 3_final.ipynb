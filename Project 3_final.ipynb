{
 "cells": [
  {
   "cell_type": "markdown",
   "metadata": {
    "id": "fScJfR5ya8Go"
   },
   "source": [
    "# Part 1\n",
    "## sp_exact_3 \n",
    "This algorithm implements the exact algorithm for computing an optimal MSA of 3 sequences and its score\n",
    "\n",
    "*(decribed on page 408 in [Ohlebusch], or in Section 14.6.1 in [Gusfield])*"
   ]
  },
  {
   "cell_type": "code",
   "execution_count": 12,
   "metadata": {
    "colab": {
     "base_uri": "https://localhost:8080/"
    },
    "executionInfo": {
     "elapsed": 3488,
     "status": "ok",
     "timestamp": 1616420471278,
     "user": {
      "displayName": "Stine Østergaard",
      "photoUrl": "",
      "userId": "02266743253279605013"
     },
     "user_tz": -60
    },
    "id": "DVsi9SFxEDqg",
    "outputId": "116c189a-8447-4519-a911-00a25ef5c3bf"
   },
   "outputs": [
    {
     "name": "stdout",
     "output_type": "stream",
     "text": [
      "Requirement already satisfied: biopython in c:\\users\\mysit\\anaconda3\\envs\\popgen\\lib\\site-packages (1.78)\n",
      "Requirement already satisfied: numpy in c:\\users\\mysit\\anaconda3\\envs\\popgen\\lib\\site-packages (from biopython) (1.19.2)\n"
     ]
    }
   ],
   "source": [
    "!pip install biopython"
   ]
  },
  {
   "cell_type": "code",
   "execution_count": 13,
   "metadata": {
    "executionInfo": {
     "elapsed": 3483,
     "status": "ok",
     "timestamp": 1616420471279,
     "user": {
      "displayName": "Stine Østergaard",
      "photoUrl": "",
      "userId": "02266743253279605013"
     },
     "user_tz": -60
    },
    "id": "FoB7IzhWDvDz",
    "scrolled": true
   },
   "outputs": [
    {
     "name": "stdout",
     "output_type": "stream",
     "text": [
      "['brca1_bos_taurus', 'brca1_canis_lupus', 'brca1_gallus_gallus', 'brca1_homo_sapiens', 'brca1_macaca_mulatta', 'brca1_mus_musculus', 'brca1_pan_troglodytes', 'brca1_rattus_norvegicus']\n"
     ]
    }
   ],
   "source": [
    "### Main script used to run the programs ###\n",
    "from Bio import SeqIO\n",
    "import pandas as pd\n",
    "import numpy as np\n",
    "\n",
    "\n",
    "\n",
    "### INPUT PARAMETERS ###\n",
    "\n",
    "matrix = pd.read_csv(\"scorematrix.txt\", index_col = 0, header = 0)\n",
    "substitution_matrix = matrix.to_dict(\"dict\")\n",
    "\n",
    "# Load sequences\n",
    "seqs = []\n",
    "for seqrecord in SeqIO.parse(\"brca1-testseqs.fasta\", \"fasta\"): # Change name/path of files if needed\n",
    "        seqs.append(seqrecord)\n",
    "\n",
    "\n",
    "# set gapcost\n",
    "gap = 5\n",
    "\n",
    "#Labels\n",
    "length=len(seqs)\n",
    "names=[]\n",
    "for i in range(0,length):\n",
    "    names.append(seqs[i].id)\n",
    "print(names)"
   ]
  },
  {
   "cell_type": "code",
   "execution_count": 14,
   "metadata": {
    "executionInfo": {
     "elapsed": 3480,
     "status": "ok",
     "timestamp": 1616420471279,
     "user": {
      "displayName": "Stine Østergaard",
      "photoUrl": "",
      "userId": "02266743253279605013"
     },
     "user_tz": -60
    },
    "id": "JVEqWw8hb8Pw"
   },
   "outputs": [],
   "source": [
    "# Returns the score of an exact multiple alignment of three sequences\n",
    "from Bio import SeqIO\n",
    "import numpy as np\n",
    "import pandas as pd\n",
    "\n",
    "### INPUT PARAMETERS ###\n",
    "\n",
    "matrix = pd.read_csv(\"scorematrix.txt\", index_col = 0, header = 0)\n",
    "substitution_matrix = matrix.to_dict(\"dict\")\n",
    "\n",
    "# set gapcost\n",
    "gap = 5\n",
    "\n",
    "### Main function ###\n",
    "\n",
    "# SP-score\n",
    "def SP(A, B, C, submatrix, gapcost):\n",
    "        a = [A,B,C]\n",
    "\n",
    "        for i in range(len(a)):\n",
    "                if a[i] == \"W\":\n",
    "                        a[i] = \"A\"\n",
    "                elif a[i] == \"S\":\n",
    "                        a[i] = \"C\"\n",
    "                elif a[i] == \"R\":\n",
    "                        a[i] = \"G\"\n",
    "                elif a[i] == \"N\":\n",
    "                        a[i] = \"T\"\n",
    "\n",
    "        gaps = a.count(\"-\")\n",
    "\n",
    "        if gaps == 0:\n",
    "                score = submatrix[a[0]][a[1]] + submatrix[a[1]][a[2]] + submatrix[a[0]][a[2]]\n",
    "        elif gaps == 1:\n",
    "                a.remove('-')\n",
    "                score = submatrix[a[0]][a[1]] + gapcost + gapcost\n",
    "        elif gaps == 2:\n",
    "                score = gapcost + gapcost\n",
    "        else:\n",
    "                return \"SP-error\"\n",
    "        return score\n",
    "\n",
    "def sp_exact_3(seqs,subm,gapc, test = False):\n",
    "        if test == True:\n",
    "                A = seqs[0]\n",
    "                B = seqs[1]\n",
    "                C = seqs[2]\n",
    "        else:\n",
    "                A = seqs[0].seq\n",
    "                B = seqs[1].seq\n",
    "                C = seqs[2].seq\n",
    "        A = A.upper()\n",
    "        B = B.upper()\n",
    "        C = C.upper()\n",
    "\n",
    "        ### Test sequences ###\n",
    "        if len(A) == 0:\n",
    "                return \"Error: Seq1 is empty\"\n",
    "        if len(B) == 0:\n",
    "                return \"Error: Seq2 is empty\"\n",
    "        if len(C) == 0:\n",
    "                return \"Error: Seq3 is empty\"\n",
    "\n",
    "        alpha = list(subm.keys())\n",
    "        add_letters= [\"W\",\"S\", \"N\", \"R\"]\n",
    "        for i in add_letters:\n",
    "                alpha.append(i)\n",
    "\n",
    "        if all(ele in alpha for ele in A) == False:\n",
    "                return \"Error: Seq1 contains unknown character\"\n",
    "        if all(ele in alpha for ele in B) == False:\n",
    "                return \"Error: Seq2 contains unknown character\"\n",
    "        if all(ele in alpha for ele in C) == False:\n",
    "                return \"Error: Seq3 contains unknown character\"\n",
    "\n",
    "        T = np.zeros([len(A)+1,len(B)+1,len(C)+1])\n",
    "\n",
    "        for i in range(len(A)+1):\n",
    "                for j in range(len(B)+1):\n",
    "                        for k in range(len(C)+1):\n",
    "                                v0=v1=v2=v3=v4=v5=v6=v7 = float(\"inf\")\n",
    "                                if i == 0 and j == 0 and k == 0:\n",
    "                                        v0 = 0\n",
    "                                if i > 0 and j > 0 and k > 0:\n",
    "                                        v1 = T[i-1,j-1,k-1] + SP(A[i-1], B[j-1], C[k-1], subm, gapc)\n",
    "                                if i > 0 and j > 0 and k >=0:\n",
    "                                        v2 = T[i-1,j-1,k] + SP(A[i-1], B[j-1], \"-\", subm, gapc)\n",
    "                                if i > 0 and j >= 0 and k>0:\n",
    "                                        v3 = T[i-1,j,k-1] + SP(A[i-1], \"-\", C[k-1], subm, gapc)\n",
    "                                if i >= 0 and j>0 and k>0:\n",
    "                                        v4 = T[i, j-1, k-1] + SP(\"-\", B[j-1], C[k-1], subm, gapc)\n",
    "                                if i >=0 and j >=0 and k>0:\n",
    "                                        v5 = T[i, j, k-1] + SP(\"-\", \"-\", C[k-1], subm, gapc)\n",
    "                                if i >=0 and j > 0 and k>=0:\n",
    "                                        v6 = T[i, j-1, k] + SP(\"-\", B[j-1], \"-\", subm, gapc)\n",
    "                                if i >0 and j >=0 and k>=0:\n",
    "                                        v7 = T[i - 1, j, k] + SP(A[i-1], \"-\", \"-\", subm, gapc)\n",
    "                                T[i,j,k] = min(v0,v1,v2,v3,v4,v5,v6,v7)\n",
    "        return T[-1,-1,-1]\n",
    "\n"
   ]
  },
  {
   "cell_type": "markdown",
   "metadata": {
    "id": "YHrMep0Ic98U"
   },
   "source": [
    "# Part 2\n",
    "The second part of the project is to use your MSA programs (or any other MSA programs) to align the 8 sequences of length 200 in brca1-testseqs.fasta as close to optimum as possible "
   ]
  },
  {
   "cell_type": "markdown",
   "metadata": {
    "id": "aTmzlUWQd_58"
   },
   "source": [
    "-Dependencies"
   ]
  },
  {
   "cell_type": "code",
   "execution_count": 15,
   "metadata": {
    "executionInfo": {
     "elapsed": 3473,
     "status": "ok",
     "timestamp": 1616420471280,
     "user": {
      "displayName": "Stine Østergaard",
      "photoUrl": "",
      "userId": "02266743253279605013"
     },
     "user_tz": -60
    },
    "id": "K9s1hzr-Fp8d"
   },
   "outputs": [],
   "source": [
    "# Two-approximation alignment helper\n",
    "# SP-score\n",
    "def SPapprox(col, submatrix, gapcost):\n",
    "        col_score = 0\n",
    "        for i in range(1,len(col)+1):\n",
    "                for j in range(i):\n",
    "                        a = [col[i-1], col[j]] #index?\n",
    "                        gaps = a.count(\"-\")\n",
    "                        if gaps == 0:\n",
    "                                score = submatrix[a[0]][a[1]]\n",
    "                        elif gaps == 1:\n",
    "                                score = gapcost\n",
    "                        elif gaps == 2:\n",
    "                                score = 0\n",
    "                        else:\n",
    "                                return \"SP-error\"\n",
    "                        col_score = col_score + score\n",
    "        return col_score #score"
   ]
  },
  {
   "cell_type": "code",
   "execution_count": 16,
   "metadata": {
    "executionInfo": {
     "elapsed": 3857,
     "status": "ok",
     "timestamp": 1616420471667,
     "user": {
      "displayName": "Stine Østergaard",
      "photoUrl": "",
      "userId": "02266743253279605013"
     },
     "user_tz": -60
    },
    "id": "1apQvKcEE3Ow"
   },
   "outputs": [],
   "source": [
    "# Two-approximation alignment helper\n",
    "\n",
    "def AlignMatrix(seqs, sub_matrix, gapcost):\n",
    "    table = np.zeros((len(seqs), len(seqs)))\n",
    "    for j in range(len(seqs)):\n",
    "        for i in range(len(seqs)):\n",
    "            table[i, j] = LinearAlignment(seqs[j], seqs[i], sub_matrix, gapcost)\n",
    "    rowsum = table.sum(axis=1)\n",
    "    minval = rowsum.argmin()\n",
    "    return table, minval"
   ]
  },
  {
   "cell_type": "code",
   "execution_count": 17,
   "metadata": {
    "executionInfo": {
     "elapsed": 3855,
     "status": "ok",
     "timestamp": 1616420471668,
     "user": {
      "displayName": "Stine Østergaard",
      "photoUrl": "",
      "userId": "02266743253279605013"
     },
     "user_tz": -60
    },
    "id": "KgDIWC-0ddXJ"
   },
   "outputs": [],
   "source": [
    "# Two-approximation alignment helpers\n",
    "import numpy as np\n",
    "\n",
    "def BacktrackLinear(table, i, j, seq1, seq2, sub_matrix, gapcost, test):\n",
    "    align1 = []\n",
    "    align2 = []\n",
    "\n",
    "    if test == False:\n",
    "        si = seq1\n",
    "        sj = seq2\n",
    "    else:\n",
    "        si = seq1\n",
    "        sj = seq2\n",
    "\n",
    "    ### Backtrack ###\n",
    "    while i > 0 or j > 0:\n",
    "        if si[i - 1] == \"W\":\n",
    "            si_char = \"A\"\n",
    "        elif si[i - 1] == \"S\":\n",
    "            si_char = \"C\"\n",
    "        elif si[i - 1] == \"R\":\n",
    "            si_char = \"G\"\n",
    "        elif si[i - 1] == \"N\":\n",
    "            si_char = \"T\"\n",
    "        else:\n",
    "            si_char = si[i - 1]\n",
    "\n",
    "        if sj[j - 1] == \"W\":\n",
    "            sj_char = \"A\"\n",
    "        elif sj[j - 1] == \"S\":\n",
    "            sj_char = \"C\"\n",
    "        elif sj[j - 1] == \"R\":\n",
    "            sj_char = \"G\"\n",
    "        elif sj[j - 1] == \"N\":\n",
    "            sj_char = \"T\"\n",
    "        else:\n",
    "            sj_char = sj[j - 1]\n",
    "\n",
    "        substitution = table[i - 1, j - 1] + sub_matrix[si_char][sj_char]\n",
    "        if i > 0 and j > 0 and substitution == table[i, j]:\n",
    "            align1.append(si_char)\n",
    "            align2.append(sj_char)\n",
    "            i = i - 1\n",
    "            j = j - 1\n",
    "        elif i >= 0 and j > 0 and table[i, j - 1] + gapcost == table[i, j]:\n",
    "            align1.append(\"-\")\n",
    "            align2.append(sj_char)\n",
    "            j = j - 1\n",
    "        elif i > 0 and j >= 0 and table[i - 1, j] + gapcost == table[i, j]:\n",
    "            align1.append(si_char)\n",
    "            align2.append(\"-\")\n",
    "            i = i - 1\n",
    "        else:\n",
    "            return \"error\"\n",
    "    ## Make pretty print of alingment ##\n",
    "    align1.reverse()\n",
    "    align2.reverse()\n",
    "    res = []\n",
    "    for i in range(len(align1)):\n",
    "        res.append([align1[i],align2[i]])\n",
    "    return res\n",
    "\n",
    "def LinearAlignment(seq1, seq2, sub_matrix, gapcost, backtrack=False, test=False):\n",
    "    ### Test sequences ###\n",
    "    if len(seq1) == 0:\n",
    "        return \"Error: Seq1 is empty\"\n",
    "    if len(seq2) == 0:\n",
    "        return \"Error: Seq2 is empty\"\n",
    "\n",
    "    if test == False:\n",
    "        si = seq1.upper()\n",
    "        sj = seq2.upper()\n",
    "\n",
    "    else:\n",
    "        si = seq1.upper()\n",
    "        sj = seq2.upper()\n",
    "\n",
    "    ###   Initialize table. seq 1 is y axis (j) and seq 2 is x axis (i)    ###\n",
    "    table = np.zeros([len(si) + 1, len(sj) + 1])\n",
    "    for i in range(1, len(si) + 1):\n",
    "        table[i, 0] = gapcost * i\n",
    "    for j in range(1, len(sj) + 1):\n",
    "        table[0, j] = gapcost * j\n",
    "\n",
    "    ###   Fill out table    ###\n",
    "    for i in range(1, len(si) + 1):\n",
    "        if si[i - 1] == \"W\":\n",
    "            si_char = \"A\"\n",
    "        elif si[i - 1] == \"S\":\n",
    "            si_char = \"C\"\n",
    "        elif si[i - 1] == \"R\":\n",
    "            si_char = \"G\"\n",
    "        elif si[i - 1] == \"N\":\n",
    "            si_char = \"T\"\n",
    "        else:\n",
    "            si_char = si[i - 1]\n",
    "\n",
    "        for j in range(1, len(sj) + 1):\n",
    "            if sj[j - 1] == \"W\":\n",
    "                sj_char = \"A\"\n",
    "            elif sj[j - 1] == \"S\":\n",
    "                sj_char = \"C\"\n",
    "            elif sj[j - 1] == \"R\":\n",
    "                sj_char = \"G\"\n",
    "            elif sj[j - 1] == \"N\":\n",
    "                sj_char = \"T\"\n",
    "            else:\n",
    "                sj_char = sj[j - 1]\n",
    "\n",
    "\n",
    "\n",
    "            ### Recursive formula ###\n",
    "            substitution = table[i - 1, j - 1] + sub_matrix[si_char][sj_char]\n",
    "            insertion = table[i, j - 1] + gapcost\n",
    "            deletion = table[i - 1, j] + gapcost\n",
    "            table[i, j] = (min(substitution, insertion, deletion))\n",
    "\n",
    "    if backtrack == True:\n",
    "        res = BacktrackLinear(table, i, j, seq1, seq2, sub_matrix, gapcost, test)\n",
    "        if test == False:\n",
    "            return res\n",
    "        return \"Score:{}\".format(table[i, j])\n",
    "\n",
    "    return table[i, j]\n",
    "\n"
   ]
  },
  {
   "cell_type": "code",
   "execution_count": 18,
   "metadata": {
    "executionInfo": {
     "elapsed": 3852,
     "status": "ok",
     "timestamp": 1616420471668,
     "user": {
      "displayName": "Stine Østergaard",
      "photoUrl": "",
      "userId": "02266743253279605013"
     },
     "user_tz": -60
    },
    "id": "M5GnkgcQd10D"
   },
   "outputs": [],
   "source": [
    "# Two-approximation alignment helper\n",
    "# #Mi = “Mi-1 extended with A”\n",
    "def ExtendM(M,A):\n",
    "    MA = []  # We open an empty matrix to store the extension\n",
    "    i = 0  # We initialize a pointer for M columns\n",
    "    j = 0  # We initialize a pointer for A columns\n",
    "\n",
    "    while i < len(M) and j < len(A):\n",
    "\n",
    "        if M[i][0] == '-' and A[j][0] == \"-\":\n",
    "            M[i].append(A[j][1])\n",
    "            MA.append(M[i])\n",
    "            i = i + 1\n",
    "            j = j + 1\n",
    "\n",
    "        elif M[i][0] == '-' and A[j][0] != \"-\":\n",
    "            M[i].append('-')\n",
    "            MA.append(M[i])\n",
    "            i = i + 1\n",
    "\n",
    "        elif M[i][0] != '-' and A[j][0] == '-':\n",
    "            c = ['-'] * len(M[i])\n",
    "            c.append(A[j][1])\n",
    "            MA.append(c)\n",
    "            j = j + 1\n",
    "\n",
    "        elif M[i][0] != '-' and A[j][0] != '-':\n",
    "            M[i].append(A[j][1])\n",
    "            MA.append(M[i])\n",
    "            i = i + 1\n",
    "            j = j + 1\n",
    "\n",
    "    if i < len(M):\n",
    "        while i < len(M):\n",
    "            MA.append(M[i])\n",
    "            i = i + 1\n",
    "\n",
    "    return MA"
   ]
  },
  {
   "cell_type": "markdown",
   "metadata": {
    "id": "_4Ge9DlqeF8P"
   },
   "source": [
    "-The MSA code"
   ]
  },
  {
   "cell_type": "code",
   "execution_count": 19,
   "metadata": {
    "executionInfo": {
     "elapsed": 3849,
     "status": "ok",
     "timestamp": 1616420471668,
     "user": {
      "displayName": "Stine Østergaard",
      "photoUrl": "",
      "userId": "02266743253279605013"
     },
     "user_tz": -60
    },
    "id": "SODZgkITdHc4"
   },
   "outputs": [],
   "source": [
    "# Returns the score of a two-approximation multiple alignment of k sequences\n",
    "from Bio import SeqIO\n",
    "import numpy as np\n",
    "import pandas as pd\n",
    "\n",
    "### INPUT PARAMETERS ###\n",
    "\n",
    "matrix = pd.read_csv(\"scorematrix.txt\", index_col = 0, header = 0)\n",
    "substitution_matrix = matrix.to_dict(\"dict\")\n",
    "\n",
    "\n",
    "\n",
    "# set gapcost\n",
    "gap = 5\n",
    "\n",
    "### Main function ###\n",
    "def sp_approx(seqs, sub_matrix, gapcost, get_alignment = False, test = False, get_center = False):\n",
    "    if test == False:\n",
    "        seqs1 = []\n",
    "        for s in seqs:\n",
    "            seqs1.append(s.seq)\n",
    "        seqs = seqs1\n",
    "\n",
    "    alpha = list(sub_matrix.keys())\n",
    "    add_letters = [\"W\", \"S\", \"N\", \"R\"]\n",
    "    for i in add_letters:\n",
    "        alpha.append(i)\n",
    "\n",
    "    ## Testing ##\n",
    "    for str in seqs:\n",
    "        str = str.upper()\n",
    "        if len(str) == 0:\n",
    "            return \"Error: One or more sequence is empty\"\n",
    "\n",
    "        if all(ele in alpha for ele in str) == False:\n",
    "                return \"Error: File contains unknown character\"\n",
    "\n",
    "\n",
    "    matrix, minval = AlignMatrix(seqs, sub_matrix, gapcost)\n",
    "    if get_center == True:\n",
    "        print(\"Index of centerstring (pythonic index):\", minval)\n",
    "    k = len(matrix)\n",
    "    M = []\n",
    "    total = 0\n",
    "    for i in range(len(seqs[minval])):\n",
    "        M.append([seqs[minval][i]])\n",
    "\n",
    "    for i in range(0, k):  # +1`?\n",
    "        if i == minval:\n",
    "            pass\n",
    "        else:\n",
    "            A = LinearAlignment(seqs[minval], seqs[i], sub_matrix, gapcost, backtrack=True)\n",
    "            M = ExtendM(M, A)\n",
    "    for col in M:\n",
    "        score = SPapprox(col, sub_matrix, gapcost)\n",
    "        total = total + score\n",
    "    if get_alignment == True:\n",
    "        arr1 = np.array(M)\n",
    "        arr1_transpose = arr1.transpose()\n",
    "        test=pd.DataFrame(data=arr1_transpose)\n",
    "        test.index = names\n",
    "        test.to_text(r'pandassssttsssss.txt', header=True, index=True)\n",
    "        print(test)\n",
    "    return total\n",
    "\n",
    "\n"
   ]
  },
  {
   "cell_type": "code",
   "execution_count": 20,
   "metadata": {
    "colab": {
     "base_uri": "https://localhost:8080/"
    },
    "executionInfo": {
     "elapsed": 3846,
     "status": "ok",
     "timestamp": 1616420471669,
     "user": {
      "displayName": "Stine Østergaard",
      "photoUrl": "",
      "userId": "02266743253279605013"
     },
     "user_tz": -60
    },
    "id": "YO4bUR7wFE-q",
    "outputId": "49597a1e-f030-472d-b781-dfa17bdd3a1e",
    "scrolled": false
   },
   "outputs": [
    {
     "name": "stdout",
     "output_type": "stream",
     "text": [
      "Index of centerstring (pythonic index): 4\n"
     ]
    },
    {
     "ename": "AttributeError",
     "evalue": "'DataFrame' object has no attribute 'to_text'",
     "output_type": "error",
     "traceback": [
      "\u001b[1;31m---------------------------------------------------------------------------\u001b[0m",
      "\u001b[1;31mAttributeError\u001b[0m                            Traceback (most recent call last)",
      "\u001b[1;32m<ipython-input-20-ae5e717b4a22>\u001b[0m in \u001b[0;36m<module>\u001b[1;34m\u001b[0m\n\u001b[0;32m      1\u001b[0m \u001b[1;31m## Print out result ##\u001b[0m\u001b[1;33m\u001b[0m\u001b[1;33m\u001b[0m\u001b[1;33m\u001b[0m\u001b[0m\n\u001b[1;32m----> 2\u001b[1;33m \u001b[0mprint\u001b[0m\u001b[1;33m(\u001b[0m\u001b[1;34m\"Alignment score:\"\u001b[0m\u001b[1;33m,\u001b[0m \u001b[0msp_approx\u001b[0m\u001b[1;33m(\u001b[0m\u001b[0mseqs\u001b[0m\u001b[1;33m,\u001b[0m \u001b[0msubstitution_matrix\u001b[0m\u001b[1;33m,\u001b[0m \u001b[0mgap\u001b[0m\u001b[1;33m,\u001b[0m \u001b[0mget_center\u001b[0m \u001b[1;33m=\u001b[0m \u001b[1;32mTrue\u001b[0m\u001b[1;33m,\u001b[0m \u001b[0mget_alignment\u001b[0m\u001b[1;33m=\u001b[0m\u001b[1;32mTrue\u001b[0m\u001b[1;33m)\u001b[0m\u001b[1;33m)\u001b[0m\u001b[1;33m\u001b[0m\u001b[1;33m\u001b[0m\u001b[0m\n\u001b[0m",
      "\u001b[1;32m<ipython-input-19-523e4f70d087>\u001b[0m in \u001b[0;36msp_approx\u001b[1;34m(seqs, sub_matrix, gapcost, get_alignment, test, get_center)\u001b[0m\n\u001b[0;32m     60\u001b[0m         \u001b[0mtest\u001b[0m\u001b[1;33m=\u001b[0m\u001b[0mpd\u001b[0m\u001b[1;33m.\u001b[0m\u001b[0mDataFrame\u001b[0m\u001b[1;33m(\u001b[0m\u001b[0mdata\u001b[0m\u001b[1;33m=\u001b[0m\u001b[0marr1_transpose\u001b[0m\u001b[1;33m)\u001b[0m\u001b[1;33m\u001b[0m\u001b[1;33m\u001b[0m\u001b[0m\n\u001b[0;32m     61\u001b[0m         \u001b[0mtest\u001b[0m\u001b[1;33m.\u001b[0m\u001b[0mindex\u001b[0m \u001b[1;33m=\u001b[0m \u001b[0mnames\u001b[0m\u001b[1;33m\u001b[0m\u001b[1;33m\u001b[0m\u001b[0m\n\u001b[1;32m---> 62\u001b[1;33m         \u001b[0mtest\u001b[0m\u001b[1;33m.\u001b[0m\u001b[0mto_text\u001b[0m\u001b[1;33m(\u001b[0m\u001b[1;34mr'pandassssttsssss.txt'\u001b[0m\u001b[1;33m,\u001b[0m \u001b[0mheader\u001b[0m\u001b[1;33m=\u001b[0m\u001b[1;32mTrue\u001b[0m\u001b[1;33m,\u001b[0m \u001b[0mindex\u001b[0m\u001b[1;33m=\u001b[0m\u001b[1;32mTrue\u001b[0m\u001b[1;33m)\u001b[0m\u001b[1;33m\u001b[0m\u001b[1;33m\u001b[0m\u001b[0m\n\u001b[0m\u001b[0;32m     63\u001b[0m         \u001b[0mprint\u001b[0m\u001b[1;33m(\u001b[0m\u001b[0mtest\u001b[0m\u001b[1;33m)\u001b[0m\u001b[1;33m\u001b[0m\u001b[1;33m\u001b[0m\u001b[0m\n\u001b[0;32m     64\u001b[0m     \u001b[1;32mreturn\u001b[0m \u001b[0mtotal\u001b[0m\u001b[1;33m\u001b[0m\u001b[1;33m\u001b[0m\u001b[0m\n",
      "\u001b[1;32m~\\anaconda3\\envs\\popgen\\lib\\site-packages\\pandas\\core\\generic.py\u001b[0m in \u001b[0;36m__getattr__\u001b[1;34m(self, name)\u001b[0m\n\u001b[0;32m   5460\u001b[0m             \u001b[1;32mif\u001b[0m \u001b[0mself\u001b[0m\u001b[1;33m.\u001b[0m\u001b[0m_info_axis\u001b[0m\u001b[1;33m.\u001b[0m\u001b[0m_can_hold_identifiers_and_holds_name\u001b[0m\u001b[1;33m(\u001b[0m\u001b[0mname\u001b[0m\u001b[1;33m)\u001b[0m\u001b[1;33m:\u001b[0m\u001b[1;33m\u001b[0m\u001b[1;33m\u001b[0m\u001b[0m\n\u001b[0;32m   5461\u001b[0m                 \u001b[1;32mreturn\u001b[0m \u001b[0mself\u001b[0m\u001b[1;33m[\u001b[0m\u001b[0mname\u001b[0m\u001b[1;33m]\u001b[0m\u001b[1;33m\u001b[0m\u001b[1;33m\u001b[0m\u001b[0m\n\u001b[1;32m-> 5462\u001b[1;33m             \u001b[1;32mreturn\u001b[0m \u001b[0mobject\u001b[0m\u001b[1;33m.\u001b[0m\u001b[0m__getattribute__\u001b[0m\u001b[1;33m(\u001b[0m\u001b[0mself\u001b[0m\u001b[1;33m,\u001b[0m \u001b[0mname\u001b[0m\u001b[1;33m)\u001b[0m\u001b[1;33m\u001b[0m\u001b[1;33m\u001b[0m\u001b[0m\n\u001b[0m\u001b[0;32m   5463\u001b[0m \u001b[1;33m\u001b[0m\u001b[0m\n\u001b[0;32m   5464\u001b[0m     \u001b[1;32mdef\u001b[0m \u001b[0m__setattr__\u001b[0m\u001b[1;33m(\u001b[0m\u001b[0mself\u001b[0m\u001b[1;33m,\u001b[0m \u001b[0mname\u001b[0m\u001b[1;33m:\u001b[0m \u001b[0mstr\u001b[0m\u001b[1;33m,\u001b[0m \u001b[0mvalue\u001b[0m\u001b[1;33m)\u001b[0m \u001b[1;33m->\u001b[0m \u001b[1;32mNone\u001b[0m\u001b[1;33m:\u001b[0m\u001b[1;33m\u001b[0m\u001b[1;33m\u001b[0m\u001b[0m\n",
      "\u001b[1;31mAttributeError\u001b[0m: 'DataFrame' object has no attribute 'to_text'"
     ]
    }
   ],
   "source": [
    "## Print out result ##\n",
    "print(\"Alignment score:\", sp_approx(seqs, substitution_matrix, gap, get_center = True, get_alignment=True))"
   ]
  },
  {
   "cell_type": "code",
   "execution_count": null,
   "metadata": {},
   "outputs": [],
   "source": []
  }
 ],
 "metadata": {
  "colab": {
   "collapsed_sections": [],
   "name": "Project 3.ipynb",
   "provenance": [],
   "toc_visible": true
  },
  "kernelspec": {
   "display_name": "Python 3",
   "language": "python",
   "name": "python3"
  },
  "language_info": {
   "codemirror_mode": {
    "name": "ipython",
    "version": 3
   },
   "file_extension": ".py",
   "mimetype": "text/x-python",
   "name": "python",
   "nbconvert_exporter": "python",
   "pygments_lexer": "ipython3",
   "version": "3.8.8"
  }
 },
 "nbformat": 4,
 "nbformat_minor": 1
}
